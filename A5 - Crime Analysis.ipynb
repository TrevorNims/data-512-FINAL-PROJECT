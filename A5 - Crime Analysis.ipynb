{
 "cells": [
  {
   "cell_type": "code",
   "execution_count": 1,
   "id": "d7f6a205",
   "metadata": {},
   "outputs": [],
   "source": [
    "import pandas as pd\n",
    "import numpy as np\n",
    "import matplotlib.pyplot as plt\n",
    "import seaborn as sns\n",
    "\n",
    "from scipy.stats import kstest\n",
    "from scipy.stats import ttest_ind\n",
    "from scipy.stats import norm"
   ]
  },
  {
   "cell_type": "markdown",
   "id": "8fa316dd",
   "metadata": {},
   "source": [
    "## Overview\n",
    "\n",
    "This notebook will use a dataset imported from the Prince George's County MD government data repository and use it to analyze crime rates in the context of Covid-19. The dataset used can be found at the following webpage:\n",
    "\n",
    " - https://data.princegeorgescountymd.gov/Public-Safety/Crime-Incidents-February-2017-to-Present/wb4e-w4nf\n",
    " \n",
    "With terms of use defined here:\n",
    "\n",
    " - https://data.princegeorgescountymd.gov/terms-of-use\n",
    "\n",
    "This analysis will also reference the John Hopkin's Covid Case Count dataset from Kaggle, which can be found at the url below:\n",
    "\n",
    " - https://www.kaggle.com/antgoldbloom/covid19-data-from-john-hopkins-university\n",
    "\n",
    "The notebook will explore how weekly crime rates have differed before and after the emergence of Covid-19, running Welch T tests on corresponding pairs of crime rate sub-types as they are defined in the dataset."
   ]
  },
  {
   "cell_type": "markdown",
   "id": "9b7cf4c3",
   "metadata": {},
   "source": [
    "## Data Ingestion and Cleaning\n",
    "\n",
    "Below, we will perform data ingestion from a local 'data' directory, cleaning the data for analysis while examining some very basic statistics."
   ]
  },
  {
   "cell_type": "code",
   "execution_count": 2,
   "id": "8be81193",
   "metadata": {},
   "outputs": [],
   "source": [
    "# John's Hopkins confirmed cases dataset runs from 01/23/2020 to 11/01/2021, \n",
    "# we will use the date 01/23/2020 as the divisor of our dataset into pre and post-Covid\n",
    "# timeframes.\n",
    "\n",
    "\n",
    "covid_start_date = np.datetime64('2020-01-23')"
   ]
  },
  {
   "cell_type": "code",
   "execution_count": 3,
   "id": "5ec3a829",
   "metadata": {},
   "outputs": [
    {
     "data": {
      "text/html": [
       "<div>\n",
       "<style scoped>\n",
       "    .dataframe tbody tr th:only-of-type {\n",
       "        vertical-align: middle;\n",
       "    }\n",
       "\n",
       "    .dataframe tbody tr th {\n",
       "        vertical-align: top;\n",
       "    }\n",
       "\n",
       "    .dataframe thead th {\n",
       "        text-align: right;\n",
       "    }\n",
       "</style>\n",
       "<table border=\"1\" class=\"dataframe\">\n",
       "  <thead>\n",
       "    <tr style=\"text-align: right;\">\n",
       "      <th></th>\n",
       "      <th>Incident_case_id</th>\n",
       "      <th>Date</th>\n",
       "      <th>Clearance_code_inc_type</th>\n",
       "      <th>PGPD Reporting Area</th>\n",
       "      <th>PGPD Sector</th>\n",
       "      <th>PGPD Beat</th>\n",
       "      <th>Street_Number</th>\n",
       "      <th>Street_Address</th>\n",
       "      <th>Latitude</th>\n",
       "      <th>Longitude</th>\n",
       "      <th>Location</th>\n",
       "    </tr>\n",
       "  </thead>\n",
       "  <tbody>\n",
       "    <tr>\n",
       "      <th>0</th>\n",
       "      <td>PP21042900001878</td>\n",
       "      <td>04/29/2021</td>\n",
       "      <td>ACCIDENT</td>\n",
       "      <td>629</td>\n",
       "      <td>W</td>\n",
       "      <td>W4</td>\n",
       "      <td>9900 BLOCK</td>\n",
       "      <td>9910 GLEN WAY</td>\n",
       "      <td>38.753129</td>\n",
       "      <td>-76.961111</td>\n",
       "      <td>(38.7531291395426, -76.9611110240221)</td>\n",
       "    </tr>\n",
       "    <tr>\n",
       "      <th>1</th>\n",
       "      <td>PP21101600001345</td>\n",
       "      <td>10/16/2021</td>\n",
       "      <td>ACCIDENT</td>\n",
       "      <td>617</td>\n",
       "      <td>K</td>\n",
       "      <td>K5</td>\n",
       "      <td>6700 BLOCK</td>\n",
       "      <td>6706 TALL OAK DR</td>\n",
       "      <td>38.796436</td>\n",
       "      <td>-76.916820</td>\n",
       "      <td>(38.7964361459017, -76.916819781065)</td>\n",
       "    </tr>\n",
       "    <tr>\n",
       "      <th>2</th>\n",
       "      <td>PP21042700001126</td>\n",
       "      <td>04/27/2021</td>\n",
       "      <td>ACCIDENT</td>\n",
       "      <td>512</td>\n",
       "      <td>J</td>\n",
       "      <td>J2</td>\n",
       "      <td>5200 BLOCK</td>\n",
       "      <td>5209 WHEELER RD</td>\n",
       "      <td>38.818090</td>\n",
       "      <td>-76.964720</td>\n",
       "      <td>(38.8180896490812, -76.9647199511528)</td>\n",
       "    </tr>\n",
       "    <tr>\n",
       "      <th>3</th>\n",
       "      <td>PP21042400000038</td>\n",
       "      <td>04/24/2021</td>\n",
       "      <td>ACCIDENT WITH IMPOUND</td>\n",
       "      <td>414</td>\n",
       "      <td>H</td>\n",
       "      <td>H7</td>\n",
       "      <td>2300 BLOCK</td>\n",
       "      <td>2362 RITCHIE RD</td>\n",
       "      <td>38.856803</td>\n",
       "      <td>-76.871872</td>\n",
       "      <td>(38.8568034768105, -76.8718723654747)</td>\n",
       "    </tr>\n",
       "    <tr>\n",
       "      <th>4</th>\n",
       "      <td>PP21042600001484</td>\n",
       "      <td>04/26/2021</td>\n",
       "      <td>ACCIDENT WITH IMPOUND</td>\n",
       "      <td>441</td>\n",
       "      <td>H</td>\n",
       "      <td>H2</td>\n",
       "      <td>NaN</td>\n",
       "      <td>SILVER HILL RD NB / PENNSYLVANIA AVE WB</td>\n",
       "      <td>38.853195</td>\n",
       "      <td>-76.909930</td>\n",
       "      <td>(38.8531945645809, -76.9099300354719)</td>\n",
       "    </tr>\n",
       "  </tbody>\n",
       "</table>\n",
       "</div>"
      ],
      "text/plain": [
       "   Incident_case_id        Date Clearance_code_inc_type  PGPD Reporting Area  \\\n",
       "0  PP21042900001878  04/29/2021                ACCIDENT                  629   \n",
       "1  PP21101600001345  10/16/2021                ACCIDENT                  617   \n",
       "2  PP21042700001126  04/27/2021                ACCIDENT                  512   \n",
       "3  PP21042400000038  04/24/2021   ACCIDENT WITH IMPOUND                  414   \n",
       "4  PP21042600001484  04/26/2021   ACCIDENT WITH IMPOUND                  441   \n",
       "\n",
       "  PGPD Sector PGPD Beat Street_Number  \\\n",
       "0           W        W4    9900 BLOCK   \n",
       "1           K        K5    6700 BLOCK   \n",
       "2           J        J2    5200 BLOCK   \n",
       "3           H        H7    2300 BLOCK   \n",
       "4           H        H2           NaN   \n",
       "\n",
       "                            Street_Address   Latitude  Longitude  \\\n",
       "0                            9910 GLEN WAY  38.753129 -76.961111   \n",
       "1                         6706 TALL OAK DR  38.796436 -76.916820   \n",
       "2                          5209 WHEELER RD  38.818090 -76.964720   \n",
       "3                          2362 RITCHIE RD  38.856803 -76.871872   \n",
       "4  SILVER HILL RD NB / PENNSYLVANIA AVE WB  38.853195 -76.909930   \n",
       "\n",
       "                               Location   \n",
       "0  (38.7531291395426, -76.9611110240221)  \n",
       "1   (38.7964361459017, -76.916819781065)  \n",
       "2  (38.8180896490812, -76.9647199511528)  \n",
       "3  (38.8568034768105, -76.8718723654747)  \n",
       "4  (38.8531945645809, -76.9099300354719)  "
      ]
     },
     "execution_count": 3,
     "metadata": {},
     "output_type": "execute_result"
    }
   ],
   "source": [
    "# Read in data from local folder, examine head of dataframe for reference\n",
    "\n",
    "crime = pd.read_csv('data/Crime_Incidents_February_2017_to_Present.csv')\n",
    "crime.head()"
   ]
  },
  {
   "cell_type": "code",
   "execution_count": 4,
   "id": "6d11f276",
   "metadata": {},
   "outputs": [
    {
     "data": {
      "text/plain": [
       "array(['ACCIDENT', 'ACCIDENT WITH IMPOUND', 'AUTO, STOLEN',\n",
       "       'THEFT FROM AUTO', 'ASSAULT, SHOOTING', 'THEFT', 'ASSAULT',\n",
       "       'ROBBERY, OTHER', 'B & E, COMMERCIAL', 'ASSAULT, WEAPON',\n",
       "       'B & E, OTHER', 'AUTO, STOLEN & RECOVERED', 'VANDALISM',\n",
       "       'B & E, RESIDENTIAL', 'ROBBERY, RESIDENTIAL', 'ROBBERY, VEHICLE',\n",
       "       'SEX OFFENSE', 'ROBBERY, COMMERCIAL', 'HOMICIDE', 'B & E, VACANT',\n",
       "       'B & E, RESIDENTIAL (VACANT)', 'B & E, SCHOOL'], dtype=object)"
      ]
     },
     "execution_count": 4,
     "metadata": {},
     "output_type": "execute_result"
    }
   ],
   "source": [
    "# Examine different sub-types of crimes contained in the dataset\n",
    "\n",
    "crime['Clearance_code_inc_type'].unique()"
   ]
  },
  {
   "cell_type": "code",
   "execution_count": 5,
   "id": "d8f71d59",
   "metadata": {},
   "outputs": [],
   "source": [
    "# Convert 'Date' field from string to datetime object, \n",
    "# partition table into before and after confirmed cases began to get\n",
    "# tracked through the Johns Hopkins dataset\n",
    "\n",
    "crime['Date'] = pd.to_datetime(crime['Date'])\n",
    "\n",
    "covid_crime = crime[crime['Date'] >= covid_start_date]\n",
    "non_covid_crime = crime[crime['Date'] < covid_start_date]"
   ]
  },
  {
   "cell_type": "code",
   "execution_count": 6,
   "id": "0b42b310",
   "metadata": {},
   "outputs": [
    {
     "name": "stdout",
     "output_type": "stream",
     "text": [
      "Mean number of crimes committed daily during covid: 57.64339908952959\n",
      "Mean number of crimes committed daily prior to covid: 66.36129032258064\n"
     ]
    }
   ],
   "source": [
    "# Compare means for crude hypothesis formation\n",
    "\n",
    "print('Mean number of crimes committed daily during covid:', \n",
    "      covid_crime['Date'].count()/covid_crime['Date'].nunique())\n",
    "print('Mean number of crimes committed daily prior to covid:',\n",
    "      non_covid_crime['Date'].count()/non_covid_crime['Date'].nunique())"
   ]
  },
  {
   "cell_type": "markdown",
   "id": "ef7171c3",
   "metadata": {},
   "source": [
    "As can be seen above, the number of crimes committed daily, on average, are greater prior to Covid-19 than after. This fits the intuition that increased social restrictions imposed in reaction to the virus would also curb crime rates. "
   ]
  },
  {
   "cell_type": "markdown",
   "id": "403ae4fd",
   "metadata": {},
   "source": [
    "## Analysis\n",
    "\n",
    "Next, we will group the data by crime sub-type (originally defined in the dataset as 'Clearance_code_inc_type'), aggregating counts of each crime sub-type reported by week, finishing by running Welch T Tests on all pairs of crime sub-types that are represented in both timeframes."
   ]
  },
  {
   "cell_type": "code",
   "execution_count": 7,
   "id": "f309b198",
   "metadata": {},
   "outputs": [
    {
     "name": "stderr",
     "output_type": "stream",
     "text": [
      "/var/folders/r0/46tzw5cj2rb7834r_m4kmf_80000gn/T/ipykernel_95657/2762591520.py:5: SettingWithCopyWarning: \n",
      "A value is trying to be set on a copy of a slice from a DataFrame.\n",
      "Try using .loc[row_indexer,col_indexer] = value instead\n",
      "\n",
      "See the caveats in the documentation: https://pandas.pydata.org/pandas-docs/stable/user_guide/indexing.html#returning-a-view-versus-a-copy\n",
      "  covid_crime['Date'] = covid_crime['Date'] - pd.to_timedelta(7, unit='d')\n",
      "/var/folders/r0/46tzw5cj2rb7834r_m4kmf_80000gn/T/ipykernel_95657/2762591520.py:9: SettingWithCopyWarning: \n",
      "A value is trying to be set on a copy of a slice from a DataFrame.\n",
      "Try using .loc[row_indexer,col_indexer] = value instead\n",
      "\n",
      "See the caveats in the documentation: https://pandas.pydata.org/pandas-docs/stable/user_guide/indexing.html#returning-a-view-versus-a-copy\n",
      "  non_covid_crime['Date'] = non_covid_crime['Date'] - pd.to_timedelta(7, unit='d')\n"
     ]
    }
   ],
   "source": [
    "# Group Data by week, and count the number of each sub-type of crime \n",
    "# reported according to sub-types defined in 'Clearance_code_inc_type'\n",
    "# column.\n",
    "\n",
    "covid_crime['Date'] = covid_crime['Date'] - pd.to_timedelta(7, unit='d')\n",
    "covid_crime_agg = covid_crime.groupby([pd.Grouper(key='Date', freq='W-MON'), \n",
    "                                   'Clearance_code_inc_type'])['Incident_case_id'].count()\n",
    "\n",
    "non_covid_crime['Date'] = non_covid_crime['Date'] - pd.to_timedelta(7, unit='d')\n",
    "non_covid_crime_agg = non_covid_crime.groupby([pd.Grouper(key='Date', freq='W-MON'), \n",
    "                                   'Clearance_code_inc_type'])['Incident_case_id'].count()"
   ]
  },
  {
   "cell_type": "code",
   "execution_count": 8,
   "id": "83e5f765",
   "metadata": {},
   "outputs": [],
   "source": [
    "# Define function that constructs a dictionary with the keys being\n",
    "# each type of crime, and the values being a list of the weekly occurences of that\n",
    "# sub-type of crime. Takes a Pandas Series object representing an aggregation by \n",
    "# week on the original dataset, as well as the total number of weeks within that\n",
    "# aggregation as parameters.\n",
    "\n",
    "def compute_list_by_crime(ser, num_weeks):\n",
    "    result = {}\n",
    "\n",
    "    for row in ser.index:\n",
    "        crime_title = row[1]\n",
    "        if crime_title not in result.keys():\n",
    "            result[crime_title] = []\n",
    "        result[crime_title].append(ser[row])\n",
    "    \n",
    "    # Ensure weeks with zero crimes of any one sub-type are still counted\n",
    "    for key in result.keys():\n",
    "        while len(result[key]) != num_weeks:\n",
    "            result[key].append(0)\n",
    "    \n",
    "    return result"
   ]
  },
  {
   "cell_type": "code",
   "execution_count": 9,
   "id": "307fb7cb",
   "metadata": {},
   "outputs": [],
   "source": [
    "# calculate number of weeks in covid and non-covid datasets\n",
    "\n",
    "weeks_non_covid = non_covid_crime_agg.reset_index()['Date'].nunique()\n",
    "weeks_covid = covid_crime_agg.reset_index()['Date'].nunique()"
   ]
  },
  {
   "cell_type": "code",
   "execution_count": 10,
   "id": "4204e88f",
   "metadata": {},
   "outputs": [],
   "source": [
    "# Compute dictionaries of crimes\n",
    "\n",
    "non_covid_crime_list = compute_list_by_crime(non_covid_crime_agg, weeks_non_covid)\n",
    "covid_crime_list = compute_list_by_crime(covid_crime_agg, weeks_covid)"
   ]
  },
  {
   "cell_type": "markdown",
   "id": "95f99f16",
   "metadata": {},
   "source": [
    "## Normality Assessment\n",
    "\n",
    "Below we will visualize the and then assess the normality of weekly report counts by crime sub-type. "
   ]
  },
  {
   "cell_type": "code",
   "execution_count": 11,
   "id": "752d7bd1",
   "metadata": {},
   "outputs": [
    {
     "data": {
      "text/plain": [
       "<matplotlib.legend.Legend at 0x7fb3d62986d0>"
      ]
     },
     "execution_count": 11,
     "metadata": {},
     "output_type": "execute_result"
    },
    {
     "data": {
      "image/png": "[encoded data removed]",
      "text/plain": [
       "<Figure size 1080x1080 with 18 Axes>"
      ]
     },
     "metadata": {
      "needs_background": "light"
     },
     "output_type": "display_data"
    }
   ],
   "source": [
    "# Visualize normality of data with histograms, plotting weekly report counts by crime sub-type\n",
    "\n",
    "fig, axs = plt.subplots(4, 5, figsize=(15, 15))\n",
    "axs = axs.ravel()\n",
    "plt_index = 0\n",
    "\n",
    "for key in covid_crime_list.keys():\n",
    "    if key in non_covid_crime_list.keys():\n",
    "        axs[plt_index].hist(non_covid_crime_list[key])\n",
    "        axs[plt_index].hist(covid_crime_list[key])\n",
    "        axs[plt_index].set_title(key)\n",
    "        \n",
    "        plt_index += 1\n",
    "\n",
    "fig.delaxes(axs[-1])\n",
    "fig.delaxes(axs[-2])\n",
    "fig.legend(title='Timeframe', labels=['Non-Covid', 'Covid'])"
   ]
  },
  {
   "cell_type": "markdown",
   "id": "92d33ea2",
   "metadata": {},
   "source": [
    "As can be seen above, some plots appear normal while others greatly diverge from normality. To put a better metric on this, we'll run a Kolmogorov-Smirnov test on each pair of weekly report counts by crime sub-type, creating a list of crime sub-types that violate normality."
   ]
  },
  {
   "cell_type": "code",
   "execution_count": 12,
   "id": "96528bdb",
   "metadata": {},
   "outputs": [],
   "source": [
    "# Run Kolmogorov-Smirnov tests to judge normality on all crime subtypes, generate list of subtypes\n",
    "# were at least one of the distributions from either timeframe violates normality.\n",
    "# Record this list in 'non_normal_subtypes'\n",
    "\n",
    "non_normal_subtypes = []\n",
    "\n",
    "for key in covid_crime_list.keys():\n",
    "    if key in non_covid_crime_list.keys():\n",
    "        # Standardize both datasets prior to running the test\n",
    "        cov_ks_test = kstest((covid_crime_list[key]-np.mean(covid_crime_list[key]))/np.std(covid_crime_list[key]),\n",
    "                             'norm')\n",
    "        non_cov_ks_test = kstest((non_covid_crime_list[key]-np.mean(non_covid_crime_list[key]))/np.std(non_covid_crime_list[key]),\n",
    "                                 'norm')\n",
    "        if cov_ks_test.pvalue < .05 or non_cov_ks_test.pvalue < .05:\n",
    "            non_normal_subtypes.append(key)\n",
    "        "
   ]
  },
  {
   "cell_type": "code",
   "execution_count": 13,
   "id": "cb942893",
   "metadata": {},
   "outputs": [],
   "source": [
    "# Define function to compute the mean and standard deviation of weekly\n",
    "# crime occurences for each sub-type of crime, returning the result in a \n",
    "# dictionary. Takes a dictionary with crime sub-types as keys and lists of weekly\n",
    "# crime counts as values.\n",
    "\n",
    "def compute_stats(dic):\n",
    "    result = {}\n",
    "    for key in dic.keys():\n",
    "        mean = np.mean(dic[key])\n",
    "        sd = np.std(dic[key])\n",
    "        result[key] = [mean, sd]\n",
    "    return result"
   ]
  },
  {
   "cell_type": "code",
   "execution_count": 14,
   "id": "e2d27c5c",
   "metadata": {},
   "outputs": [],
   "source": [
    "# Compute stats on crime data for each sub-type\n",
    "\n",
    "non_covid_crime_stats = compute_stats(non_covid_crime_list)\n",
    "covid_crime_stats = compute_stats(covid_crime_list)"
   ]
  },
  {
   "cell_type": "markdown",
   "id": "ff9e47bb",
   "metadata": {},
   "source": [
    "## Hypothesis Testing\n",
    "\n",
    "Now, we will run Welch's T tests comparing the difference in mean number of crimes reported by week for each pair of crime sub-types in the two timeframes. Sub-types that violated normality according to the KS test are not included. The two hypotheses are made explicit below:\n",
    "\n",
    "$H_0$: Mean number of crimes reported by week of each sub-type were the same during and not during covid\n",
    "\n",
    "$H_A$: Mean number of crimes reported by week of each sub-type was less during covid than not during covid\n",
    "\n",
    "The sub-types and their respective p-values are printed by the code below:"
   ]
  },
  {
   "cell_type": "code",
   "execution_count": 15,
   "id": "3083a6d7",
   "metadata": {},
   "outputs": [
    {
     "name": "stdout",
     "output_type": "stream",
     "text": [
      "ACCIDENT:\n",
      "\n",
      "\tp-value: 2.390e-08 \n",
      "\n",
      "\n",
      "ACCIDENT WITH IMPOUND:\n",
      "\n",
      "\tp-value: 9.533e-01 \n",
      "\n",
      "\n",
      "ASSAULT:\n",
      "\n",
      "\tp-value: 1.000e+00 \n",
      "\n",
      "\n",
      "AUTO, STOLEN:\n",
      "\n",
      "\tp-value: 8.181e-01 \n",
      "\n",
      "\n",
      "B & E, COMMERCIAL:\n",
      "\n",
      "\tp-value: 2.263e-01 \n",
      "\n",
      "\n",
      "ROBBERY, OTHER:\n",
      "\n",
      "\tp-value: 1.000e+00 \n",
      "\n",
      "\n",
      "THEFT:\n",
      "\n",
      "\tp-value: 1.000e+00 \n",
      "\n",
      "\n",
      "THEFT FROM AUTO:\n",
      "\n",
      "\tp-value: 9.996e-01 \n",
      "\n",
      "\n"
     ]
    }
   ],
   "source": [
    "# H_0: Mean number of crimes by week of each sub-type were the same during and not during covid\n",
    "# H_A: Mean number of crimes by week of each sub-type was less during covid than not during covid\n",
    "\n",
    "# If p-value is very low, that means the data suggests the alternative is true, if p-value is very high,\n",
    "# that suggests that the opposite of the alternative is true (i.e. the mean number of crimes by week of\n",
    "# each sub-type was greater during covid than not)\n",
    "\n",
    "tested_sub_types = []\n",
    "\n",
    "for key in covid_crime_stats.keys():\n",
    "    if key in non_covid_crime_stats.keys() and key not in non_normal_subtypes:\n",
    "        print(key +':\\n\\n\\tp-value: ' + '{:0.3e}'.format(ttest_ind(non_covid_crime_list[key], covid_crime_list[key],\n",
    "                            alternative='less', equal_var=False).pvalue), '\\n\\n')\n",
    "        tested_sub_types.append(key)"
   ]
  },
  {
   "cell_type": "markdown",
   "id": "63622088",
   "metadata": {},
   "source": [
    "## Visualization\n",
    "\n",
    "Here, we'll use a boxplot to visualize the eight crime sub-types tested - gaining additional perspective on how the data is distributed."
   ]
  },
  {
   "cell_type": "code",
   "execution_count": 16,
   "id": "affe9c1f",
   "metadata": {},
   "outputs": [],
   "source": [
    "# Create dataframes from lists, assign additional column for timeframe division,\n",
    "# inner join the two new dataframes and pivot the concatenated dataframe on TimeFrame\n",
    "\n",
    "non_covid_counts = pd.DataFrame.from_dict(non_covid_crime_list).assign(TimeFrame='Non-Covid')\n",
    "covid_counts = pd.DataFrame.from_dict(covid_crime_list).assign(TimeFrame='Covid')\n",
    "\n",
    "cdf = pd.concat([non_covid_counts, covid_counts], join='inner')\n",
    "mdf = pd.melt(cdf, id_vars=['TimeFrame'], var_name=['Crime Sub-Type'])"
   ]
  },
  {
   "cell_type": "code",
   "execution_count": 17,
   "id": "94858f83",
   "metadata": {},
   "outputs": [
    {
     "data": {
      "image/png": "[encoded data removed]",
      "text/plain": [
       "<Figure size 1080x720 with 1 Axes>"
      ]
     },
     "metadata": {
      "needs_background": "light"
     },
     "output_type": "display_data"
    }
   ],
   "source": [
    "# Specify plot parameters, produce plot and \n",
    "\n",
    "fig, ax = plt.subplots(figsize=(15,10))\n",
    "ax = sns.boxplot(x=\"Crime Sub-Type\", y=\"value\", hue=\"TimeFrame\", \n",
    "                 data=mdf[mdf['Crime Sub-Type'].isin(tested_sub_types)])\n",
    "ax.set_title('Mean Number of Crimes Reported Per Week per Crime Sub-Type')\n",
    "ax.set_ylabel('Mean Number of Crimes Reported Per Week')\n",
    "plt.savefig('visualizations/tested_subtypes_box_plot.png', facecolor='w')"
   ]
  },
  {
   "cell_type": "markdown",
   "id": "4f6f99ba",
   "metadata": {},
   "source": [
    "## Interpretation\n",
    "\n",
    "After running our analysis on the eight viable crime sub-type timeframe pairs, we can come to the following conclusions:\n",
    "\n",
    "    1) With a p-value below .05, the data suggests that the number of Accidents reported by week was greater during Covid-19 than prior.\n",
    "\n",
    "    2) With p-values greater than .95, the data suggests that the number of Accidents with Impounds, Assaults, Robberies (Other), Thefts, and Thefts from Auto were greater prior to Covid-19 than during\n",
    "\n",
    "While this analysis provides some insight into the effect of Covid-19 on crime in Prince George's County MD, additional research would need to be done to arrive at a more meaningful conclusion."
   ]
  }
 ],
 "metadata": {
  "kernelspec": {
   "display_name": "Python 3 (ipykernel)",
   "language": "python",
   "name": "python3"
  },
  "language_info": {
   "codemirror_mode": {
    "name": "ipython",
    "version": 3
   },
   "file_extension": ".py",
   "mimetype": "text/x-python",
   "name": "python",
   "nbconvert_exporter": "python",
   "pygments_lexer": "ipython3",
   "version": "3.8.3"
  }
 },
 "nbformat": 4,
 "nbformat_minor": 5
}
